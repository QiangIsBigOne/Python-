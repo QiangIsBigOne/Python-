{
 "cells": [
  {
   "cell_type": "code",
   "execution_count": null,
   "metadata": {},
   "outputs": [],
   "source": [
    "# 取出Mysql中未用的id\n",
    "import mysql.connector\n",
    "\n",
    "mydb = mysql.connector.connect(\n",
    "    host='localhost',\n",
    "    user='',\n",
    "    password='',\n",
    "    database=''\n",
    ")\n",
    "\n",
    "mycursor = mydb.cursor()\n",
    "sql = \"select max(id) from person\"\n",
    "mycursor.execute(sql)\n",
    "maxs = mycursor.fetchone()[0]\n",
    "print('max',maxs)\n",
    "\n",
    "mid = [i for i in range(1,maxs+1)]\n",
    "\n",
    "sql = \"select id,name,phone,company from person\"\n",
    "mycursor.execute(sql)\n",
    "\n",
    "data = [i for i in mycursor.fetchall()]\n",
    "\n",
    "use_able = []\n",
    "for i in mid:\n",
    "    flag = True\n",
    "    for j in data:\n",
    "        if i == j[0]:\n",
    "            flag = False\n",
    "            break\n",
    "    if flag:\n",
    "        use_able.append(i)\n",
    "        \n",
    "print(use_able)"
   ]
  }
 ],
 "metadata": {
  "kernelspec": {
   "display_name": "Python 3",
   "language": "python",
   "name": "python3"
  },
  "language_info": {
   "codemirror_mode": {
    "name": "ipython",
    "version": 3
   },
   "file_extension": ".py",
   "mimetype": "text/x-python",
   "name": "python",
   "nbconvert_exporter": "python",
   "pygments_lexer": "ipython3",
   "version": "3.7.4"
  }
 },
 "nbformat": 4,
 "nbformat_minor": 2
}
